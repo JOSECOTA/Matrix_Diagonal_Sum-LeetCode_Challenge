{
 "cells": [
  {
   "cell_type": "code",
   "execution_count": 1,
   "id": "915da8de",
   "metadata": {},
   "outputs": [],
   "source": [
    "def diagonal(mat):\n",
    "    list =[]\n",
    "    n = len(mat)\n",
    "\n",
    "    for j in range(len(mat)):\n",
    "        for i in range(len(mat)):\n",
    "             if j == i or (i+j) == (n-1):\n",
    "                list.append(mat[j][i])\n",
    "\n",
    "    return (sum(list))\n",
    "\n",
    "            \n",
    "\n"
   ]
  },
  {
   "cell_type": "code",
   "execution_count": 2,
   "id": "3557ea5f",
   "metadata": {},
   "outputs": [
    {
     "data": {
      "text/plain": [
       "25"
      ]
     },
     "execution_count": 2,
     "metadata": {},
     "output_type": "execute_result"
    }
   ],
   "source": [
    "diagonal(mat = [[1,2,3], \n",
    "       [4,5,6],\n",
    "       [7,8,9]])"
   ]
  },
  {
   "cell_type": "code",
   "execution_count": null,
   "id": "c1431fe7",
   "metadata": {},
   "outputs": [],
   "source": []
  }
 ],
 "metadata": {
  "kernelspec": {
   "display_name": "Python 3 (ipykernel)",
   "language": "python",
   "name": "python3"
  },
  "language_info": {
   "codemirror_mode": {
    "name": "ipython",
    "version": 3
   },
   "file_extension": ".py",
   "mimetype": "text/x-python",
   "name": "python",
   "nbconvert_exporter": "python",
   "pygments_lexer": "ipython3",
   "version": "3.9.7"
  }
 },
 "nbformat": 4,
 "nbformat_minor": 5
}
